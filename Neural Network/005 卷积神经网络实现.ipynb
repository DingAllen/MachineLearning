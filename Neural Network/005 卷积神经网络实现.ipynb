{
 "cells": [
  {
   "cell_type": "code",
   "execution_count": 1,
   "metadata": {},
   "outputs": [
    {
     "name": "stdout",
     "output_type": "stream",
     "text": [
      "(50000, 3072)\n",
      "(50000,)\n",
      "(10000, 3072)\n",
      "(10000,)\n",
      "[[ 0.76470588  0.74901961  0.74901961 ... -0.49019608 -0.56078431\n",
      "  -0.62352941]\n",
      " [-0.41176471 -0.41960784 -0.41960784 ...  0.39607843  0.40392157\n",
      "   0.42745098]\n",
      " [ 0.75686275  0.63137255  0.61568627 ... -0.11372549 -0.10588235\n",
      "  -0.1372549 ]\n",
      " ...\n",
      " [ 0.6627451   0.67058824  0.69411765 ... -0.6        -0.4745098\n",
      "  -0.5372549 ]\n",
      " [-0.64705882 -0.70196078 -0.74117647 ... -0.60784314 -0.61568627\n",
      "  -0.61568627]\n",
      " [-0.63137255 -0.78039216 -0.81960784 ...  0.08235294  0.10588235\n",
      "   0.05882353]]\n",
      "[3 0 7 1 2 6 9 3 8 4]\n"
     ]
    }
   ],
   "source": [
    "import tensorflow as tf\n",
    "import os\n",
    "import _pickle as cPickle\n",
    "import numpy as np\n",
    "\n",
    "CIFAR_DIR = \"./cifar-10-batches-py\"\n",
    "\n",
    "from myUtils.utils import CifarData\n",
    "\n",
    "train_filenames = [os.path.join(CIFAR_DIR, 'data_batch_%d' % i) for i in range(1, 6)]\n",
    "test_filenames = [os.path.join(CIFAR_DIR, 'test_batch')]\n",
    "\n",
    "train_data = CifarData(train_filenames, True)\n",
    "test_data = CifarData(test_filenames, False)\n",
    "\n",
    "batch_data, batch_labels = train_data.next_batch(10)\n",
    "print(batch_data)\n",
    "print(batch_labels)"
   ]
  },
  {
   "cell_type": "code",
   "execution_count": 2,
   "metadata": {},
   "outputs": [
    {
     "name": "stdout",
     "output_type": "stream",
     "text": [
      "WARNING:tensorflow:From <ipython-input-2-f55eb03d23ee>:6: conv2d (from tensorflow.python.layers.convolutional) is deprecated and will be removed in a future version.\n",
      "Instructions for updating:\n",
      "Use keras.layers.conv2d instead.\n",
      "WARNING:tensorflow:From /anaconda3/lib/python3.7/site-packages/tensorflow/python/framework/op_def_library.py:263: colocate_with (from tensorflow.python.framework.ops) is deprecated and will be removed in a future version.\n",
      "Instructions for updating:\n",
      "Colocations handled automatically by placer.\n",
      "WARNING:tensorflow:From <ipython-input-2-f55eb03d23ee>:7: max_pooling2d (from tensorflow.python.layers.pooling) is deprecated and will be removed in a future version.\n",
      "Instructions for updating:\n",
      "Use keras.layers.max_pooling2d instead.\n",
      "WARNING:tensorflow:From <ipython-input-2-f55eb03d23ee>:13: flatten (from tensorflow.python.layers.core) is deprecated and will be removed in a future version.\n",
      "Instructions for updating:\n",
      "Use keras.layers.flatten instead.\n",
      "WARNING:tensorflow:From <ipython-input-2-f55eb03d23ee>:14: dense (from tensorflow.python.layers.core) is deprecated and will be removed in a future version.\n",
      "Instructions for updating:\n",
      "Use keras.layers.dense instead.\n",
      "WARNING:tensorflow:From /anaconda3/lib/python3.7/site-packages/tensorflow/python/ops/losses/losses_impl.py:209: to_float (from tensorflow.python.ops.math_ops) is deprecated and will be removed in a future version.\n",
      "Instructions for updating:\n",
      "Use tf.cast instead.\n"
     ]
    }
   ],
   "source": [
    "x = tf.placeholder(tf.float32, [None, 3072])\n",
    "y = tf.placeholder(tf.int64, [None])\n",
    "x_image = tf.reshape(x, [-1, 3, 32, 32])\n",
    "x_image = tf.transpose(x_image, perm=[0, 2, 3, 1])\n",
    "\n",
    "conv1 = tf.layers.conv2d(x_image, 32, (3, 3), padding='same', activation=tf.nn.relu, name='conv1')\n",
    "pooling1 = tf.layers.max_pooling2d(conv1, (2, 2), (2, 2), name='pool1')\n",
    "conv2 = tf.layers.conv2d(pooling1, 32, (3, 3), padding='same', activation=tf.nn.relu, name='conv2')\n",
    "pooling2 = tf.layers.max_pooling2d(conv2, (2, 2), (2, 2), name='pool2')\n",
    "conv3 = tf.layers.conv2d(pooling2, 32, (3, 3), padding='same', activation=tf.nn.relu, name='conv3')\n",
    "pooling3 = tf.layers.max_pooling2d(conv3, (2, 2), (2, 2), name='pool3')\n",
    "\n",
    "flatten = tf.layers.flatten(pooling3)\n",
    "y_ = tf.layers.dense(flatten, 10)\n",
    "\n",
    "\n",
    "loss = tf.losses.sparse_softmax_cross_entropy(labels=y, logits=y_)\n",
    "\n",
    "predict = tf.argmax(y_, 1) \n",
    "correct_prediction = tf.equal(predict, y)\n",
    "accuracy = tf.reduce_mean(tf.cast(correct_prediction, tf.float64))\n",
    "\n",
    "with tf.name_scope('train_op'):\n",
    "    train_op = tf.train.AdamOptimizer(1e-3).minimize(loss)"
   ]
  },
  {
   "cell_type": "code",
   "execution_count": 4,
   "metadata": {},
   "outputs": [
    {
     "name": "stdout",
     "output_type": "stream",
     "text": [
      "[Train] Step: 100, loss: 1.84091, accuracy: 0.30000\n",
      "[Train] Step: 200, loss: 1.77469, accuracy: 0.30000\n",
      "[Train] Step: 300, loss: 1.70990, accuracy: 0.45000\n",
      "[Train] Step: 400, loss: 2.20998, accuracy: 0.20000\n",
      "[Train] Step: 500, loss: 1.35487, accuracy: 0.40000\n",
      "(10000, 3072)\n",
      "(10000,)\n",
      "[Test] Step: 500, accuracy: 0.45850\n",
      "[Train] Step: 600, loss: 1.68966, accuracy: 0.25000\n",
      "[Train] Step: 700, loss: 1.42696, accuracy: 0.25000\n",
      "[Train] Step: 800, loss: 1.44431, accuracy: 0.50000\n",
      "[Train] Step: 900, loss: 1.68999, accuracy: 0.35000\n",
      "[Train] Step: 1000, loss: 0.83679, accuracy: 0.70000\n",
      "(10000, 3072)\n",
      "(10000,)\n",
      "[Test] Step: 1000, accuracy: 0.53000\n"
     ]
    }
   ],
   "source": [
    "init = tf.global_variables_initializer()\n",
    "batch_size = 20\n",
    "train_steps = 1000\n",
    "test_steps = 100\n",
    "with tf.Session() as sess:\n",
    "    sess.run(init)\n",
    "    for i in range(train_steps):\n",
    "        batch_data, batch_labels = train_data.next_batch(batch_size)\n",
    "        loss_val, accu_val, _ = sess.run([loss, accuracy, train_op], feed_dict={x: batch_data, y: batch_labels})\n",
    "        if (i + 1) % 100 == 0 :\n",
    "            print(\"[Train] Step: %d, loss: %4.5f, accuracy: %4.5f\" % (i + 1, loss_val, accu_val))\n",
    "        if (i + 1) % 500 == 0 :\n",
    "            test_data = CifarData(test_filenames, False)\n",
    "            all_test_acc_val = []\n",
    "            for j in range(test_steps) :\n",
    "                test_batch_data, test_batch_labels = test_data.next_batch(batch_size)\n",
    "                test_acc_val = sess.run([accuracy], feed_dict={x: test_batch_data, y: test_batch_labels})\n",
    "                all_test_acc_val.append(test_acc_val)\n",
    "            test_acc = np.mean(all_test_acc_val)\n",
    "            print(\"[Test] Step: %d, accuracy: %4.5f\" % (i + 1, test_acc))"
   ]
  },
  {
   "cell_type": "code",
   "execution_count": null,
   "metadata": {},
   "outputs": [],
   "source": []
  }
 ],
 "metadata": {
  "kernelspec": {
   "display_name": "Python 3",
   "language": "python",
   "name": "python3"
  },
  "language_info": {
   "codemirror_mode": {
    "name": "ipython",
    "version": 3
   },
   "file_extension": ".py",
   "mimetype": "text/x-python",
   "name": "python",
   "nbconvert_exporter": "python",
   "pygments_lexer": "ipython3",
   "version": "3.7.3"
  }
 },
 "nbformat": 4,
 "nbformat_minor": 2
}
