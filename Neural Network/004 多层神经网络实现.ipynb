{
 "cells": [
  {
   "cell_type": "code",
   "execution_count": 1,
   "metadata": {},
   "outputs": [
    {
     "name": "stdout",
     "output_type": "stream",
     "text": [
      "(50000, 3072)\n",
      "(50000,)\n",
      "(10000, 3072)\n",
      "(10000,)\n",
      "[[-0.6        -0.77254902 -0.88235294 ... -0.56078431 -0.59215686\n",
      "  -0.6       ]\n",
      " [ 0.85098039  0.79607843  0.78039216 ... -0.74901961 -0.76470588\n",
      "  -0.75686275]\n",
      " [-0.23921569 -0.3254902  -0.29411765 ...  0.27843137  0.29411765\n",
      "   0.28627451]\n",
      " ...\n",
      " [-0.4745098   0.27843137  1.         ... -0.24705882 -0.25490196\n",
      "  -0.21568627]\n",
      " [ 0.12156863 -0.00392157  0.01960784 ...  0.49803922  0.51372549\n",
      "   0.46666667]\n",
      " [ 0.05098039 -0.11372549  0.2        ... -0.03529412  0.11372549\n",
      "   0.04313725]]\n",
      "[9 8 9 7 0 7 1 3 6 7]\n"
     ]
    }
   ],
   "source": [
    "import tensorflow as tf\n",
    "import os\n",
    "import _pickle as cPickle\n",
    "import numpy as np\n",
    "\n",
    "CIFAR_DIR = \"./cifar-10-batches-py\"\n",
    "\n",
    "from myUtils.utils import CifarData\n",
    "\n",
    "train_filenames = [os.path.join(CIFAR_DIR, 'data_batch_%d' % i) for i in range(1, 6)]\n",
    "test_filenames = [os.path.join(CIFAR_DIR, 'test_batch')]\n",
    "\n",
    "train_data = CifarData(train_filenames, True)\n",
    "test_data = CifarData(test_filenames, False)\n",
    "\n",
    "batch_data, batch_labels = train_data.next_batch(10)\n",
    "print(batch_data)\n",
    "print(batch_labels)"
   ]
  },
  {
   "cell_type": "code",
   "execution_count": 2,
   "metadata": {},
   "outputs": [
    {
     "name": "stdout",
     "output_type": "stream",
     "text": [
      "WARNING:tensorflow:From <ipython-input-2-56c5ad142735>:3: dense (from tensorflow.python.layers.core) is deprecated and will be removed in a future version.\n",
      "Instructions for updating:\n",
      "Use keras.layers.dense instead.\n",
      "WARNING:tensorflow:From /anaconda3/lib/python3.7/site-packages/tensorflow/python/framework/op_def_library.py:263: colocate_with (from tensorflow.python.framework.ops) is deprecated and will be removed in a future version.\n",
      "Instructions for updating:\n",
      "Colocations handled automatically by placer.\n",
      "WARNING:tensorflow:From /anaconda3/lib/python3.7/site-packages/tensorflow/python/ops/losses/losses_impl.py:209: to_float (from tensorflow.python.ops.math_ops) is deprecated and will be removed in a future version.\n",
      "Instructions for updating:\n",
      "Use tf.cast instead.\n"
     ]
    }
   ],
   "source": [
    "x = tf.placeholder(tf.float32, [None, 3072])\n",
    "y = tf.placeholder(tf.int64, [None])\n",
    "hidden1 = tf.layers.dense(x, 100, activation=tf.nn.relu)\n",
    "hidden2 = tf.layers.dense(hidden1, 100, activation=tf.nn.relu)\n",
    "hidden3 = tf.layers.dense(hidden2, 50, activation=tf.nn.relu)\n",
    "y_ = tf.layers.dense(hidden3, 10)\n",
    "\n",
    "\n",
    "loss = tf.losses.sparse_softmax_cross_entropy(labels=y, logits=y_)\n",
    "\n",
    "predict = tf.argmax(y_, 1) \n",
    "correct_prediction = tf.equal(predict, y)\n",
    "accuracy = tf.reduce_mean(tf.cast(correct_prediction, tf.float64))\n",
    "\n",
    "with tf.name_scope('train_op'):\n",
    "    train_op = tf.train.AdamOptimizer(1e-3).minimize(loss)"
   ]
  },
  {
   "cell_type": "code",
   "execution_count": 4,
   "metadata": {},
   "outputs": [
    {
     "name": "stdout",
     "output_type": "stream",
     "text": [
      "[Train] Step: 500, loss: 1.60477, accuracy: 0.60000\n",
      "[Train] Step: 1000, loss: 1.68612, accuracy: 0.40000\n",
      "[Train] Step: 1500, loss: 2.18088, accuracy: 0.25000\n",
      "[Train] Step: 2000, loss: 1.67129, accuracy: 0.45000\n",
      "[Train] Step: 2500, loss: 1.68756, accuracy: 0.35000\n",
      "[Train] Step: 3000, loss: 1.45150, accuracy: 0.40000\n",
      "[Train] Step: 3500, loss: 1.36757, accuracy: 0.55000\n",
      "[Train] Step: 4000, loss: 1.38710, accuracy: 0.50000\n",
      "[Train] Step: 4500, loss: 1.36984, accuracy: 0.50000\n",
      "[Train] Step: 5000, loss: 1.30380, accuracy: 0.65000\n",
      "(10000, 3072)\n",
      "(10000,)\n",
      "[Test] Step: 5000, accuracy: 0.47400\n",
      "[Train] Step: 5500, loss: 1.22613, accuracy: 0.55000\n",
      "[Train] Step: 6000, loss: 1.42794, accuracy: 0.35000\n",
      "[Train] Step: 6500, loss: 1.23660, accuracy: 0.60000\n",
      "[Train] Step: 7000, loss: 1.65471, accuracy: 0.40000\n",
      "[Train] Step: 7500, loss: 1.69524, accuracy: 0.45000\n",
      "[Train] Step: 8000, loss: 1.28435, accuracy: 0.60000\n",
      "[Train] Step: 8500, loss: 1.10725, accuracy: 0.55000\n",
      "[Train] Step: 9000, loss: 1.26483, accuracy: 0.55000\n",
      "[Train] Step: 9500, loss: 1.58706, accuracy: 0.45000\n",
      "[Train] Step: 10000, loss: 1.37668, accuracy: 0.55000\n",
      "(10000, 3072)\n",
      "(10000,)\n",
      "[Test] Step: 10000, accuracy: 0.48400\n"
     ]
    }
   ],
   "source": [
    "init = tf.global_variables_initializer()\n",
    "batch_size = 20\n",
    "train_steps = 10000\n",
    "test_steps = 100\n",
    "with tf.Session() as sess:\n",
    "    sess.run(init)\n",
    "    for i in range(train_steps):\n",
    "        batch_data, batch_labels = train_data.next_batch(batch_size)\n",
    "        loss_val, accu_val, _ = sess.run([loss, accuracy, train_op], feed_dict={x: batch_data, y: batch_labels})\n",
    "        if (i + 1) % 500 == 0 :\n",
    "            print(\"[Train] Step: %d, loss: %4.5f, accuracy: %4.5f\" % (i + 1, loss_val, accu_val))\n",
    "        if (i + 1) % 5000 == 0 :\n",
    "            test_data = CifarData(test_filenames, False)\n",
    "            all_test_acc_val = []\n",
    "            for j in range(test_steps) :\n",
    "                test_batch_data, test_batch_labels = test_data.next_batch(batch_size)\n",
    "                test_acc_val = sess.run([accuracy], feed_dict={x: test_batch_data, y: test_batch_labels})\n",
    "                all_test_acc_val.append(test_acc_val)\n",
    "            test_acc = np.mean(all_test_acc_val)\n",
    "            print(\"[Test] Step: %d, accuracy: %4.5f\" % (i + 1, test_acc))"
   ]
  },
  {
   "cell_type": "code",
   "execution_count": null,
   "metadata": {},
   "outputs": [],
   "source": []
  }
 ],
 "metadata": {
  "kernelspec": {
   "display_name": "Python 3",
   "language": "python",
   "name": "python3"
  },
  "language_info": {
   "codemirror_mode": {
    "name": "ipython",
    "version": 3
   },
   "file_extension": ".py",
   "mimetype": "text/x-python",
   "name": "python",
   "nbconvert_exporter": "python",
   "pygments_lexer": "ipython3",
   "version": "3.7.3"
  }
 },
 "nbformat": 4,
 "nbformat_minor": 2
}
