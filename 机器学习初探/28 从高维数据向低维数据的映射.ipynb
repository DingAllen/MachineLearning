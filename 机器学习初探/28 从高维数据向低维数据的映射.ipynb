{
 "cells": [
  {
   "cell_type": "markdown",
   "metadata": {},
   "source": [
    "# 28 从高维数据向低维数据的映射"
   ]
  },
  {
   "cell_type": "code",
   "execution_count": 1,
   "metadata": {},
   "outputs": [],
   "source": [
    "import numpy as np\n",
    "import matplotlib.pyplot as plt"
   ]
  },
  {
   "cell_type": "code",
   "execution_count": 2,
   "metadata": {},
   "outputs": [],
   "source": [
    "X = np.empty((100, 2))\n",
    "X[:, 0] = np.random.uniform(0., 100., size=100)\n",
    "X[:, 1] = 0.75 * X[:, 0] + 3. + np.random.normal(0, 10., size=100)"
   ]
  },
  {
   "cell_type": "code",
   "execution_count": 3,
   "metadata": {},
   "outputs": [
    {
     "data": {
      "text/plain": [
       "PCA(n_components=2)"
      ]
     },
     "execution_count": 3,
     "metadata": {},
     "output_type": "execute_result"
    }
   ],
   "source": [
    "from kNN_function.PCA import PCA\n",
    "\n",
    "pca = PCA(n_components=2)\n",
    "pca.fit(X)"
   ]
  },
  {
   "cell_type": "code",
   "execution_count": 4,
   "metadata": {},
   "outputs": [
    {
     "data": {
      "text/plain": [
       "array([[ 0.78509307,  0.61937781],\n",
       "       [-0.61937456,  0.78509563]])"
      ]
     },
     "execution_count": 4,
     "metadata": {},
     "output_type": "execute_result"
    }
   ],
   "source": [
    "pca.components_"
   ]
  },
  {
   "cell_type": "code",
   "execution_count": 5,
   "metadata": {},
   "outputs": [
    {
     "data": {
      "text/plain": [
       "PCA(n_components=1)"
      ]
     },
     "execution_count": 5,
     "metadata": {},
     "output_type": "execute_result"
    }
   ],
   "source": [
    "pca = PCA(n_components=1)\n",
    "pca.fit(X)"
   ]
  },
  {
   "cell_type": "code",
   "execution_count": 6,
   "metadata": {},
   "outputs": [
    {
     "data": {
      "text/plain": [
       "array([[0.78509301, 0.61937788]])"
      ]
     },
     "execution_count": 6,
     "metadata": {},
     "output_type": "execute_result"
    }
   ],
   "source": [
    "pca.components_"
   ]
  },
  {
   "cell_type": "code",
   "execution_count": 7,
   "metadata": {},
   "outputs": [],
   "source": [
    "X_reduction = pca.transform(X)"
   ]
  },
  {
   "cell_type": "code",
   "execution_count": 8,
   "metadata": {},
   "outputs": [
    {
     "data": {
      "text/plain": [
       "(100, 1)"
      ]
     },
     "execution_count": 8,
     "metadata": {},
     "output_type": "execute_result"
    }
   ],
   "source": [
    "X_reduction.shape"
   ]
  },
  {
   "cell_type": "code",
   "execution_count": 10,
   "metadata": {},
   "outputs": [],
   "source": [
    "X_restore = pca"
   ]
  },
  {
   "cell_type": "markdown",
   "metadata": {},
   "source": [
    "### scikit-learn中的PCA"
   ]
  },
  {
   "cell_type": "code",
   "execution_count": 11,
   "metadata": {},
   "outputs": [],
   "source": [
    "from sklearn.decomposition import PCA"
   ]
  },
  {
   "cell_type": "code",
   "execution_count": 12,
   "metadata": {},
   "outputs": [
    {
     "data": {
      "text/plain": [
       "PCA(copy=True, iterated_power='auto', n_components=1, random_state=None,\n",
       "  svd_solver='auto', tol=0.0, whiten=False)"
      ]
     },
     "execution_count": 12,
     "metadata": {},
     "output_type": "execute_result"
    }
   ],
   "source": [
    "pca = PCA(n_components=1)\n",
    "pca.fit(X)"
   ]
  },
  {
   "cell_type": "code",
   "execution_count": 13,
   "metadata": {},
   "outputs": [
    {
     "data": {
      "text/plain": [
       "array([[-0.78509311, -0.61937775]])"
      ]
     },
     "execution_count": 13,
     "metadata": {},
     "output_type": "execute_result"
    }
   ],
   "source": [
    "pca.components_"
   ]
  },
  {
   "cell_type": "code",
   "execution_count": 14,
   "metadata": {},
   "outputs": [],
   "source": [
    "X_reduction = pca.transform(X)"
   ]
  },
  {
   "cell_type": "code",
   "execution_count": 15,
   "metadata": {},
   "outputs": [
    {
     "data": {
      "text/plain": [
       "(100, 1)"
      ]
     },
     "execution_count": 15,
     "metadata": {},
     "output_type": "execute_result"
    }
   ],
   "source": [
    "X_reduction.shape"
   ]
  },
  {
   "cell_type": "code",
   "execution_count": 16,
   "metadata": {},
   "outputs": [],
   "source": [
    "X_restore = pca.inverse_transform(X_reduction)"
   ]
  },
  {
   "cell_type": "code",
   "execution_count": 17,
   "metadata": {},
   "outputs": [
    {
     "data": {
      "text/plain": [
       "array([[ 27.69223525,  23.22765801],\n",
       "       [ 36.7375208 ,  30.36368881],\n",
       "       [ 85.86824027,  69.12402707],\n",
       "       [ 69.24410682,  56.00887137],\n",
       "       [ 57.19543713,  46.50340273],\n",
       "       [ 22.93042616,  19.47095887],\n",
       "       [ 55.00195675,  44.77291634],\n",
       "       [ 81.82536173,  65.93450855],\n",
       "       [ 33.22413244,  27.59189709],\n",
       "       [ 42.75044741,  35.10742291],\n",
       "       [ 91.89897991,  73.88181427],\n",
       "       [ 34.11373082,  28.29372142],\n",
       "       [ 58.06286193,  47.18773381],\n",
       "       [ 86.31698735,  69.47805381],\n",
       "       [ 40.81379871,  33.57955685],\n",
       "       [ 18.55182975,  16.01658491],\n",
       "       [ 85.23436087,  68.62394524],\n",
       "       [ 48.63624052,  39.75085851],\n",
       "       [ 45.23093392,  37.06433495],\n",
       "       [ 37.94381638,  31.31536273],\n",
       "       [ 62.27950611,  50.51433999],\n",
       "       [ 27.58010987,  23.13919975],\n",
       "       [ 63.60378547,  51.559094  ],\n",
       "       [ 54.04724119,  44.01971959],\n",
       "       [ 66.44823672,  53.80314606],\n",
       "       [ 52.61499986,  42.88979194],\n",
       "       [ 34.16091594,  28.33094683],\n",
       "       [  8.85347996,   8.36533692],\n",
       "       [  3.68374475,   4.28681563],\n",
       "       [ 84.33515422,  67.91454073],\n",
       "       [ 99.16542779,  79.61447972],\n",
       "       [ 74.97452926,  60.52973152],\n",
       "       [ 86.43074761,  69.56780186],\n",
       "       [ 78.28251572,  63.13947702],\n",
       "       [ 52.45883867,  42.76659284],\n",
       "       [ 28.18229462,  23.61427695],\n",
       "       [ 65.43476944,  53.00359875],\n",
       "       [ 52.53282265,  42.82496048],\n",
       "       [ 55.87962032,  45.46532502],\n",
       "       [ -0.84068493,   0.71739051],\n",
       "       [ 57.20343564,  46.50971294],\n",
       "       [100.99328045,  81.05651411],\n",
       "       [ 52.52395787,  42.81796686],\n",
       "       [ 10.21977775,   9.44324022],\n",
       "       [ 35.32820423,  29.25184702],\n",
       "       [ 32.76457656,  27.22934304],\n",
       "       [ 64.79505533,  52.4989138 ],\n",
       "       [ 66.36935052,  53.74091095],\n",
       "       [ 16.86933718,  14.68922839],\n",
       "       [ 37.08192177,  30.63539454],\n",
       "       [ 72.36265768,  58.46916683],\n",
       "       [ -0.97399148,   0.61222195],\n",
       "       [101.81438919,  81.70430542],\n",
       "       [ 82.06654046,  66.12477991],\n",
       "       [  0.92512699,   2.11047956],\n",
       "       [ 61.46516732,  49.87188966],\n",
       "       [ 42.37304644,  34.80968273],\n",
       "       [ 41.02609732,  33.74704404],\n",
       "       [ 12.8481263 ,  11.51680397],\n",
       "       [ 12.81323022,  11.48927367],\n",
       "       [ 53.76217763,  43.79482649],\n",
       "       [ 18.73353867,  16.1599392 ],\n",
       "       [ 50.75376764,  41.42142366],\n",
       "       [ 24.86515818,  20.99731282],\n",
       "       [ 13.7713282 ,  12.24513888],\n",
       "       [ 93.18922492,  74.89971781],\n",
       "       [ 84.38339584,  67.95259964],\n",
       "       [ 31.13173071,  25.94115394],\n",
       "       [ 87.41886612,  70.34735095],\n",
       "       [ 70.21208904,  56.77253448],\n",
       "       [ 89.02805735,  71.61687839],\n",
       "       [ 72.19283072,  58.33518649],\n",
       "       [ 73.75528593,  59.56784282],\n",
       "       [ 59.40484675,  48.24645606],\n",
       "       [ 53.04970256,  43.23273876],\n",
       "       [ 77.18530509,  62.27386268],\n",
       "       [ 53.10428969,  43.27580378],\n",
       "       [ 18.22203003,  15.75639844],\n",
       "       [ 16.9711452 ,  14.76954704],\n",
       "       [ 77.56311265,  62.57192363],\n",
       "       [ 76.31793547,  61.58957513],\n",
       "       [ 17.53307298,  15.21286461],\n",
       "       [ 96.51183355,  77.52099907],\n",
       "       [ 70.62534773,  57.09856363],\n",
       "       [ 51.66221669,  42.1381197 ],\n",
       "       [ 82.61116468,  66.5544463 ],\n",
       "       [103.46813371,  83.00898195],\n",
       "       [ 27.26238493,  22.88853934],\n",
       "       [ 68.64347304,  55.53501776],\n",
       "       [ 40.51813166,  33.34629841],\n",
       "       [ 47.93548192,  39.19801416],\n",
       "       [  9.23961053,   8.66996408],\n",
       "       [ 80.72427738,  65.06583815],\n",
       "       [ 20.46845735,  17.52865587],\n",
       "       [ 59.35250333,  48.20516115],\n",
       "       [ 28.71353413,  24.03338384],\n",
       "       [ 30.00512588,  25.05234985],\n",
       "       [ 78.2081861 ,  63.0808367 ],\n",
       "       [ 19.03690047,  16.3992682 ],\n",
       "       [ 62.81088184,  50.93355435]])"
      ]
     },
     "execution_count": 17,
     "metadata": {},
     "output_type": "execute_result"
    }
   ],
   "source": [
    "X_restore"
   ]
  },
  {
   "cell_type": "code",
   "execution_count": 18,
   "metadata": {},
   "outputs": [
    {
     "data": {
      "image/png": "[encoded data removed]",
      "text/plain": [
       "<Figure size 432x288 with 1 Axes>"
      ]
     },
     "metadata": {
      "needs_background": "light"
     },
     "output_type": "display_data"
    }
   ],
   "source": [
    "plt.scatter(X[:,0], X[:,1], color='b', alpha=0.5)\n",
    "plt.scatter(X_restore[:,0],X_restore[:,1], color='r',alpha=0.5)\n",
    "plt.show()"
   ]
  },
  {
   "cell_type": "code",
   "execution_count": null,
   "metadata": {},
   "outputs": [],
   "source": []
  }
 ],
 "metadata": {
  "kernelspec": {
   "display_name": "Python 3",
   "language": "python",
   "name": "python3"
  },
  "language_info": {
   "codemirror_mode": {
    "name": "ipython",
    "version": 3
   },
   "file_extension": ".py",
   "mimetype": "text/x-python",
   "name": "python",
   "nbconvert_exporter": "python",
   "pygments_lexer": "ipython3",
   "version": "3.7.3"
  }
 },
 "nbformat": 4,
 "nbformat_minor": 2
}
