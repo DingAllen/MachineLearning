{
 "cells": [
  {
   "cell_type": "markdown",
   "metadata": {},
   "source": [
    "# 数据归一化处理"
   ]
  },
  {
   "cell_type": "code",
   "execution_count": 1,
   "metadata": {},
   "outputs": [],
   "source": [
    "import numpy as np\n",
    "import matplotlib.pyplot as plt"
   ]
  },
  {
   "cell_type": "markdown",
   "metadata": {},
   "source": [
    "## 最值归一化 Normalization"
   ]
  },
  {
   "cell_type": "code",
   "execution_count": 2,
   "metadata": {},
   "outputs": [],
   "source": [
    "x = np.random.randint(0, 100, size=100)"
   ]
  },
  {
   "cell_type": "code",
   "execution_count": 3,
   "metadata": {},
   "outputs": [
    {
     "data": {
      "text/plain": [
       "array([45, 27, 70, 66, 48, 40, 16, 95, 56, 40, 41, 42, 86, 85, 71, 80, 54,\n",
       "       32, 22, 33, 93,  6, 36, 19, 83, 42, 46, 56, 44, 22, 59, 63,  1, 15,\n",
       "       45, 78, 14, 40, 17, 92, 32, 89, 35,  8, 48, 27, 44, 63, 34, 11, 63,\n",
       "       71, 38, 77, 62, 49, 49, 19, 99, 34, 95, 94, 55, 40, 61, 67, 12, 48,\n",
       "       86, 44, 52, 14, 34, 81, 58, 55, 23, 77, 13,  5, 90, 53, 24, 65, 78,\n",
       "       69, 52, 43, 85, 25, 27, 69, 45, 51, 19, 20,  0, 39, 33, 34])"
      ]
     },
     "execution_count": 3,
     "metadata": {},
     "output_type": "execute_result"
    }
   ],
   "source": [
    "x"
   ]
  },
  {
   "cell_type": "code",
   "execution_count": 4,
   "metadata": {},
   "outputs": [
    {
     "data": {
      "text/plain": [
       "array([0.45454545, 0.27272727, 0.70707071, 0.66666667, 0.48484848,\n",
       "       0.4040404 , 0.16161616, 0.95959596, 0.56565657, 0.4040404 ,\n",
       "       0.41414141, 0.42424242, 0.86868687, 0.85858586, 0.71717172,\n",
       "       0.80808081, 0.54545455, 0.32323232, 0.22222222, 0.33333333,\n",
       "       0.93939394, 0.06060606, 0.36363636, 0.19191919, 0.83838384,\n",
       "       0.42424242, 0.46464646, 0.56565657, 0.44444444, 0.22222222,\n",
       "       0.5959596 , 0.63636364, 0.01010101, 0.15151515, 0.45454545,\n",
       "       0.78787879, 0.14141414, 0.4040404 , 0.17171717, 0.92929293,\n",
       "       0.32323232, 0.8989899 , 0.35353535, 0.08080808, 0.48484848,\n",
       "       0.27272727, 0.44444444, 0.63636364, 0.34343434, 0.11111111,\n",
       "       0.63636364, 0.71717172, 0.38383838, 0.77777778, 0.62626263,\n",
       "       0.49494949, 0.49494949, 0.19191919, 1.        , 0.34343434,\n",
       "       0.95959596, 0.94949495, 0.55555556, 0.4040404 , 0.61616162,\n",
       "       0.67676768, 0.12121212, 0.48484848, 0.86868687, 0.44444444,\n",
       "       0.52525253, 0.14141414, 0.34343434, 0.81818182, 0.58585859,\n",
       "       0.55555556, 0.23232323, 0.77777778, 0.13131313, 0.05050505,\n",
       "       0.90909091, 0.53535354, 0.24242424, 0.65656566, 0.78787879,\n",
       "       0.6969697 , 0.52525253, 0.43434343, 0.85858586, 0.25252525,\n",
       "       0.27272727, 0.6969697 , 0.45454545, 0.51515152, 0.19191919,\n",
       "       0.2020202 , 0.        , 0.39393939, 0.33333333, 0.34343434])"
      ]
     },
     "execution_count": 4,
     "metadata": {},
     "output_type": "execute_result"
    }
   ],
   "source": [
    "(x - np.min(x)) / (np.max(x) - np.min(x))"
   ]
  },
  {
   "cell_type": "code",
   "execution_count": 5,
   "metadata": {},
   "outputs": [],
   "source": [
    "X = np.random.randint(0,100,size=(50,2))"
   ]
  },
  {
   "cell_type": "code",
   "execution_count": 6,
   "metadata": {},
   "outputs": [
    {
     "data": {
      "text/plain": [
       "array([[70, 97],\n",
       "       [11, 86],\n",
       "       [98, 56],\n",
       "       [16, 12],\n",
       "       [86,  3],\n",
       "       [43, 50],\n",
       "       [73, 61],\n",
       "       [47, 36],\n",
       "       [14, 83],\n",
       "       [24, 12]])"
      ]
     },
     "execution_count": 6,
     "metadata": {},
     "output_type": "execute_result"
    }
   ],
   "source": [
    "X[:10,:]"
   ]
  },
  {
   "cell_type": "code",
   "execution_count": 7,
   "metadata": {},
   "outputs": [],
   "source": [
    "X = np.array(X, dtype=float)"
   ]
  },
  {
   "cell_type": "code",
   "execution_count": 8,
   "metadata": {},
   "outputs": [
    {
     "data": {
      "text/plain": [
       "array([[70., 97.],\n",
       "       [11., 86.],\n",
       "       [98., 56.],\n",
       "       [16., 12.],\n",
       "       [86.,  3.],\n",
       "       [43., 50.],\n",
       "       [73., 61.],\n",
       "       [47., 36.],\n",
       "       [14., 83.],\n",
       "       [24., 12.]])"
      ]
     },
     "execution_count": 8,
     "metadata": {},
     "output_type": "execute_result"
    }
   ],
   "source": [
    "X[:10,:]"
   ]
  },
  {
   "cell_type": "code",
   "execution_count": 9,
   "metadata": {},
   "outputs": [],
   "source": [
    "X[:,0] = (X[:,0] - np.min(X[:,0])) / (np.max(X[:,0]) - np.min(X[:,0]))"
   ]
  },
  {
   "cell_type": "code",
   "execution_count": 10,
   "metadata": {},
   "outputs": [],
   "source": [
    "X[:,1] = (X[:,1] - np.min(X[:,1])) / (np.max(X[:,1]) - np.min(X[:,1]))"
   ]
  },
  {
   "cell_type": "code",
   "execution_count": 11,
   "metadata": {},
   "outputs": [
    {
     "data": {
      "text/plain": [
       "array([[0.71428571, 0.97959184],\n",
       "       [0.1122449 , 0.86734694],\n",
       "       [1.        , 0.56122449],\n",
       "       [0.16326531, 0.1122449 ],\n",
       "       [0.87755102, 0.02040816],\n",
       "       [0.43877551, 0.5       ],\n",
       "       [0.74489796, 0.6122449 ],\n",
       "       [0.47959184, 0.35714286],\n",
       "       [0.14285714, 0.83673469],\n",
       "       [0.24489796, 0.1122449 ]])"
      ]
     },
     "execution_count": 11,
     "metadata": {},
     "output_type": "execute_result"
    }
   ],
   "source": [
    "X[:10,:]"
   ]
  },
  {
   "cell_type": "code",
   "execution_count": 12,
   "metadata": {},
   "outputs": [
    {
     "data": {
      "image/png": "[encoded data removed]",
      "text/plain": [
       "<Figure size 432x288 with 1 Axes>"
      ]
     },
     "metadata": {
      "needs_background": "light"
     },
     "output_type": "display_data"
    }
   ],
   "source": [
    "plt.scatter(X[:,0],X[:,1])\n",
    "plt.show()"
   ]
  },
  {
   "cell_type": "code",
   "execution_count": 13,
   "metadata": {},
   "outputs": [
    {
     "data": {
      "text/plain": [
       "0.4810204081632653"
      ]
     },
     "execution_count": 13,
     "metadata": {},
     "output_type": "execute_result"
    }
   ],
   "source": [
    "np.mean(X[:,0])"
   ]
  },
  {
   "cell_type": "code",
   "execution_count": 14,
   "metadata": {},
   "outputs": [
    {
     "data": {
      "text/plain": [
       "0.3104524381739978"
      ]
     },
     "execution_count": 14,
     "metadata": {},
     "output_type": "execute_result"
    }
   ],
   "source": [
    "np.std(X[:,0])"
   ]
  },
  {
   "cell_type": "markdown",
   "metadata": {},
   "source": [
    "## 均值方差归一化 Standardization"
   ]
  },
  {
   "cell_type": "code",
   "execution_count": 15,
   "metadata": {},
   "outputs": [],
   "source": [
    "X2 = np.random.randint(0, 100, (50,2))"
   ]
  },
  {
   "cell_type": "code",
   "execution_count": 16,
   "metadata": {},
   "outputs": [],
   "source": [
    "X2 = np.array(X2, dtype=float)"
   ]
  },
  {
   "cell_type": "code",
   "execution_count": 17,
   "metadata": {},
   "outputs": [],
   "source": [
    "X2[:,0] = (X2[:,0] - np.mean(X2[:,0])) / np.std(X2[:,0])"
   ]
  },
  {
   "cell_type": "code",
   "execution_count": 18,
   "metadata": {},
   "outputs": [],
   "source": [
    "X2[:,1] = (X2[:,1] - np.mean(X2[:,1])) / np.std(X2[:,1])"
   ]
  },
  {
   "cell_type": "code",
   "execution_count": 19,
   "metadata": {},
   "outputs": [
    {
     "data": {
      "image/png": "[encoded data removed]",
      "text/plain": [
       "<Figure size 432x288 with 1 Axes>"
      ]
     },
     "metadata": {
      "needs_background": "light"
     },
     "output_type": "display_data"
    }
   ],
   "source": [
    "plt.scatter(X2[:,0],X2[:,1])\n",
    "plt.show()"
   ]
  },
  {
   "cell_type": "code",
   "execution_count": 20,
   "metadata": {},
   "outputs": [
    {
     "data": {
      "text/plain": [
       "-3.1086244689504386e-17"
      ]
     },
     "execution_count": 20,
     "metadata": {},
     "output_type": "execute_result"
    }
   ],
   "source": [
    "np.mean(X2[:,0])"
   ]
  },
  {
   "cell_type": "code",
   "execution_count": 21,
   "metadata": {},
   "outputs": [
    {
     "data": {
      "text/plain": [
       "1.0"
      ]
     },
     "execution_count": 21,
     "metadata": {},
     "output_type": "execute_result"
    }
   ],
   "source": [
    "np.std(X2[:,0])"
   ]
  },
  {
   "cell_type": "code",
   "execution_count": null,
   "metadata": {},
   "outputs": [],
   "source": []
  }
 ],
 "metadata": {
  "kernelspec": {
   "display_name": "Python 3",
   "language": "python",
   "name": "python3"
  },
  "language_info": {
   "codemirror_mode": {
    "name": "ipython",
    "version": 3
   },
   "file_extension": ".py",
   "mimetype": "text/x-python",
   "name": "python",
   "nbconvert_exporter": "python",
   "pygments_lexer": "ipython3",
   "version": "3.7.3"
  }
 },
 "nbformat": 4,
 "nbformat_minor": 2
}
